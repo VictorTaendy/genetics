{
 "cells": [
  {
   "cell_type": "code",
   "execution_count": 1,
   "id": "21e8f963",
   "metadata": {},
   "outputs": [],
   "source": [
    "from representation.binary_repr import (\n",
    "    int_repr, \n",
    "    real_float_dec_repr as float_dec,\n",
    "    real_fixed_repr as real,\n",
    "    bool_repr\n",
    ")\n",
    "\n",
    "from itertools import chain\n",
    "\n",
    "from random import choices"
   ]
  },
  {
   "cell_type": "code",
   "execution_count": 2,
   "id": "dfe3daf3",
   "metadata": {},
   "outputs": [],
   "source": [
    "\n",
    "# Configurações\n",
    "# NUM_BITS = 10  # Representação binária\n",
    "POP_SIZE = 200  # Tamanho da população\n",
    "CROSSOVER_RATE = 0.7\n",
    "MUTATION_RATE = 0.02\n",
    "MAX_GENERATIONS = 100"
   ]
  },
  {
   "cell_type": "code",
   "execution_count": 3,
   "id": "8049d893",
   "metadata": {},
   "outputs": [],
   "source": [
    "class cromossomo:\n",
    "    \n",
    "    def __init__(\n",
    "        self,\n",
    "        list_types : list,\n",
    "        integer_type = int_repr(),\n",
    "        real_type    = real(),\n",
    "        bool_type    = bool_repr()\n",
    "    ):\n",
    "        \n",
    "        self.list_types = list_types # [int, int, float, bool]\n",
    "        \n",
    "        self.integer = integer_type\n",
    "        self.floater = real_type\n",
    "        self.booler = bool_type\n",
    "        \n",
    "        self.mapp_size = {\n",
    "            int   : self.integer.size(),\n",
    "            float : self.floater.size(),\n",
    "            bool  : self.booler.size()\n",
    "        }\n",
    "        \n",
    "        self.crom_size = sum(map(self.mapp_size.get, self.list_types))\n",
    "        \n",
    "        self.mapp_cast_to_bin = {\n",
    "            int    : self.integer.to_bin,\n",
    "            float  : self.floater.to_bin,\n",
    "            bool   : self.booler.to_bin\n",
    "        }\n",
    "        \n",
    "        self.mapp_cast_to_val = {\n",
    "            int    : self.integer.to_val,\n",
    "            float  : self.floater.to_val,\n",
    "            bool   : self.booler.to_val\n",
    "        }\n",
    "\n",
    "    def _valid_list(self, sample):\n",
    "        if len(self.list_types) != len(sample):\n",
    "            return False\n",
    "        else:\n",
    "            return all(i == j for i, j in zip(sample, self.list_types))\n",
    "    \n",
    "    def _item2bin(self, item):\n",
    "        return self.mapp_cast_to_bin[type(item)](item)\n",
    "\n",
    "    def crom2bin(self, types):\n",
    "        return list(chain.from_iterable(self._item2bin(item) for item in types))\n",
    "\n",
    "    ### ------------------------------------------------\n",
    "    \n",
    "    def _parts(self, vector):\n",
    "        assert self.crom_size == len(vector)\n",
    "\n",
    "        rest = vector.copy()\n",
    "\n",
    "        for part in self.list_types:\n",
    "            actual, rest = rest[:self.mapp_size[part]], rest[self.mapp_size[part]:]\n",
    "            yield actual\n",
    "\n",
    "    def _parts_drive(self, vector):\n",
    "        return list(self._parts(vector=vector))\n",
    "\n",
    "    def bin2crom(self, val):\n",
    "        binaries = self._parts_drive(vector=val)\n",
    "        # self.mapp_cast[i](j)\n",
    "        # (self.mapp_cast_to_val[i], i, j)\n",
    "        return list(self.mapp_cast_to_val[i](j) for i, j in zip(self.list_types, binaries))\n",
    "    \n",
    "    def new_cromossomo(self):\n",
    "        return choices([0, 1], k=self.crom_size)"
   ]
  },
  {
   "cell_type": "code",
   "execution_count": 4,
   "id": "70508781",
   "metadata": {},
   "outputs": [],
   "source": [
    "types = [int, int, float, bool]\n",
    "values_ex = [5, -3, 12.1, True]\n",
    "values_ex2 = [1, -2, 123.456, False]"
   ]
  },
  {
   "cell_type": "code",
   "execution_count": 5,
   "id": "07f42b71",
   "metadata": {},
   "outputs": [],
   "source": [
    "cr = cromossomo(list_types=types)"
   ]
  },
  {
   "cell_type": "code",
   "execution_count": 6,
   "id": "6f1ee248",
   "metadata": {},
   "outputs": [],
   "source": [
    "resp = cr.crom2bin(types=values_ex2)"
   ]
  },
  {
   "cell_type": "code",
   "execution_count": 7,
   "id": "bd1553a7",
   "metadata": {
    "scrolled": true
   },
   "outputs": [
    {
     "data": {
      "text/plain": [
       "46"
      ]
     },
     "execution_count": 7,
     "metadata": {},
     "output_type": "execute_result"
    }
   ],
   "source": [
    "len(resp)"
   ]
  },
  {
   "cell_type": "code",
   "execution_count": 8,
   "id": "d5e4c0b0",
   "metadata": {
    "scrolled": true
   },
   "outputs": [
    {
     "data": {
      "text/plain": [
       "[1, -2, 123.456, False]"
      ]
     },
     "execution_count": 8,
     "metadata": {},
     "output_type": "execute_result"
    }
   ],
   "source": [
    "inv_resp = cr.bin2crom(resp)\n",
    "inv_resp"
   ]
  },
  {
   "cell_type": "markdown",
   "id": "754f4cf7",
   "metadata": {},
   "source": [
    "<br>\n",
    "<br>"
   ]
  },
  {
   "cell_type": "code",
   "execution_count": 13,
   "id": "13426dec",
   "metadata": {},
   "outputs": [
    {
     "data": {
      "text/plain": [
       "[72, -34, 7975.84969, True]"
      ]
     },
     "execution_count": 13,
     "metadata": {},
     "output_type": "execute_result"
    }
   ],
   "source": [
    "new = cr.new_cromossomo()\n",
    "cr.bin2crom(new)"
   ]
  },
  {
   "cell_type": "code",
   "execution_count": null,
   "id": "92313954",
   "metadata": {},
   "outputs": [],
   "source": [
    "_, _, new_float, _ = cr.bin2crom(new)\n",
    "new_float"
   ]
  },
  {
   "cell_type": "code",
   "execution_count": null,
   "id": "be2a72fd",
   "metadata": {
    "scrolled": true
   },
   "outputs": [],
   "source": [
    "len(new[16:-1])"
   ]
  },
  {
   "cell_type": "code",
   "execution_count": null,
   "id": "ee94da69",
   "metadata": {},
   "outputs": [],
   "source": [
    "cr.floater.bin2float(new[16:-1])"
   ]
  },
  {
   "cell_type": "code",
   "execution_count": null,
   "id": "41c8438a",
   "metadata": {},
   "outputs": [],
   "source": [
    "divmod(new_float, 1)"
   ]
  },
  {
   "cell_type": "code",
   "execution_count": null,
   "id": "17b07e22",
   "metadata": {},
   "outputs": [],
   "source": [
    "type(new_float)"
   ]
  },
  {
   "cell_type": "markdown",
   "id": "109bfea7",
   "metadata": {},
   "source": [
    "<br>"
   ]
  },
  {
   "cell_type": "code",
   "execution_count": null,
   "id": "7f76b5e8",
   "metadata": {},
   "outputs": [],
   "source": [
    "for i in range(0, 30):\n",
    "    if (2 ** i) > (10 ** 4):\n",
    "        print(i)\n",
    "        break"
   ]
  },
  {
   "cell_type": "markdown",
   "id": "c13d1df8",
   "metadata": {},
   "source": [
    "<br>\n",
    "<br>\n",
    "<br>\n",
    "<br>"
   ]
  },
  {
   "cell_type": "code",
   "execution_count": null,
   "id": "43a81170",
   "metadata": {},
   "outputs": [],
   "source": [
    "# Função de grau 3: f(x) = ax^3 + bx^2 + cx + d\n",
    "def func(x):\n",
    "    a, b, c, d = 1, -2, -3, 2  # Exemplo de coeficientes\n",
    "    return a*x**3 + b*x**2 + c*x + d\n",
    "\n",
    "# Inicializa a população\n",
    "def initialize_population():\n",
    "    return [['0' if random.random() < 0.5 else '1' for _ in range(NUM_BITS)] for _ in range(POP_SIZE)]\n",
    "\n",
    "# Decodifica o cromossomo\n",
    "def decode(chromosome):\n",
    "    return -5 + 10*int(''.join(chromosome), 2)/((2**NUM_BITS) - 1)  # Assume que os valores de x estão no intervalo [-5,5]\n",
    "\n",
    "# Função fitness\n",
    "def fitness(chromosome):\n",
    "    return -func(decode(chromosome))  # Queremos minimizar a função, então pegamos o negativo\n",
    "\n",
    "# Seleção por torneio\n",
    "def select_parent(population):\n",
    "    contenders = random.sample(population, 5)  # Seleciona 5 concorrentes aleatoriamente\n",
    "    return min(contenders, key=fitness)\n",
    "\n",
    "# Crossover de um ponto\n",
    "def crossover(parent1, parent2):\n",
    "    if random.random() < CROSSOVER_RATE:\n",
    "        point = random.randint(1, NUM_BITS-1)\n",
    "        child = parent1[:point] + parent2[point:]\n",
    "        return child\n",
    "    return parent1\n",
    "\n",
    "# Mutação\n",
    "def mutate(chromosome):\n",
    "    for i in range(NUM_BITS):\n",
    "        if random.random() < MUTATION_RATE:\n",
    "            chromosome[i] = '1' if chromosome[i] == '0' else '0'\n",
    "    return chromosome\n",
    "\n",
    "# Algoritmo Genético\n",
    "def genetic_algorithm():\n",
    "    population = initialize_population()\n",
    "    \n",
    "    for generation in range(MAX_GENERATIONS):\n",
    "        new_population = []\n",
    "        for _ in range(POP_SIZE):\n",
    "            parent1 = select_parent(population)\n",
    "            parent2 = select_parent(population)\n",
    "            child = crossover(parent1, parent2)\n",
    "            child = mutate(child)\n",
    "            new_population.append(child)\n",
    "        \n",
    "        population = new_population\n",
    "        \n",
    "        # Imprime o melhor indivíduo da geração\n",
    "        best_chromosome = min(population, key=fitness)\n",
    "        print(f\"Generation {generation+1}, Best fitness: {-fitness(best_chromosome)}, x = {decode(best_chromosome)}\")\n",
    "    \n",
    "    return min(population, key=fitness)"
   ]
  },
  {
   "cell_type": "code",
   "execution_count": null,
   "id": "4100d0cb",
   "metadata": {},
   "outputs": [],
   "source": [
    "# Executa\n",
    "best_solution = genetic_algorithm()\n",
    "print(f\"Best solution: x = {decode(best_solution)}, y = {func(decode(best_solution))}\")"
   ]
  },
  {
   "cell_type": "markdown",
   "id": "9be588cf",
   "metadata": {},
   "source": [
    "<br>\n",
    "<br>\n",
    "<br>\n",
    "<br>"
   ]
  },
  {
   "cell_type": "code",
   "execution_count": 43,
   "id": "5040538b",
   "metadata": {},
   "outputs": [
    {
     "data": {
      "text/plain": [
       "[0, 1, 0, 0, 1, 0, 0, 1, 0, 1]"
      ]
     },
     "execution_count": 43,
     "metadata": {},
     "output_type": "execute_result"
    }
   ],
   "source": [
    "choices([0, 1], k=10)"
   ]
  },
  {
   "cell_type": "code",
   "execution_count": 17,
   "id": "0f36911d",
   "metadata": {},
   "outputs": [],
   "source": [
    "fixed = real()"
   ]
  },
  {
   "cell_type": "code",
   "execution_count": 20,
   "id": "6d21a4b8",
   "metadata": {},
   "outputs": [
    {
     "data": {
      "text/plain": [
       "(14, 14)"
      ]
     },
     "execution_count": 20,
     "metadata": {},
     "output_type": "execute_result"
    }
   ],
   "source": [
    "fixed.real_size, fixed.frac_size"
   ]
  },
  {
   "cell_type": "code",
   "execution_count": 14,
   "id": "463f048b",
   "metadata": {},
   "outputs": [
    {
     "data": {
      "text/plain": [
       "8192"
      ]
     },
     "execution_count": 14,
     "metadata": {},
     "output_type": "execute_result"
    }
   ],
   "source": [
    "2 ** 13"
   ]
  },
  {
   "cell_type": "code",
   "execution_count": 16,
   "id": "55b1dde8",
   "metadata": {},
   "outputs": [
    {
     "data": {
      "text/plain": [
       "(10, 16)"
      ]
     },
     "execution_count": 16,
     "metadata": {},
     "output_type": "execute_result"
    }
   ],
   "source": [
    "10, 2 ** 4"
   ]
  }
 ],
 "metadata": {
  "kernelspec": {
   "display_name": "Python 3 (ipykernel)",
   "language": "python",
   "name": "python3"
  },
  "language_info": {
   "codemirror_mode": {
    "name": "ipython",
    "version": 3
   },
   "file_extension": ".py",
   "mimetype": "text/x-python",
   "name": "python",
   "nbconvert_exporter": "python",
   "pygments_lexer": "ipython3",
   "version": "3.10.11"
  }
 },
 "nbformat": 4,
 "nbformat_minor": 5
}
