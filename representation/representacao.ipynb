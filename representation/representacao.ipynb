{
 "cells": [
  {
   "cell_type": "code",
   "execution_count": 1,
   "id": "dd98b967",
   "metadata": {},
   "outputs": [],
   "source": [
    "from binary_repr import float_dec, int_repr"
   ]
  },
  {
   "cell_type": "code",
   "execution_count": 2,
   "id": "8f4e0ac5",
   "metadata": {},
   "outputs": [],
   "source": [
    "integer = int_repr(num_bits=8)"
   ]
  },
  {
   "cell_type": "code",
   "execution_count": 3,
   "id": "c22a8dbf",
   "metadata": {},
   "outputs": [
    {
     "name": "stdout",
     "output_type": "stream",
     "text": [
      "[1, 1, 1, 1, 1, 0, 1, 1]\n",
      "[0, 0, 0, 0, 0, 1, 0, 1]\n",
      "[1, 0, 0, 0, 0, 0, 0, 0]\n",
      "[0, 1, 1, 1, 1, 1, 1, 1]\n"
     ]
    }
   ],
   "source": [
    "print(integer.int2bin(-5))\n",
    "print(integer.int2bin(5))\n",
    "print(integer.int2bin(-128))\n",
    "print(integer.int2bin(127))"
   ]
  },
  {
   "cell_type": "code",
   "execution_count": 4,
   "id": "869e6d6a",
   "metadata": {},
   "outputs": [
    {
     "name": "stdout",
     "output_type": "stream",
     "text": [
      "-5\n",
      "5\n",
      "-128\n",
      "127\n"
     ]
    }
   ],
   "source": [
    "print(integer.bin2int([1, 1, 1, 1, 1, 0, 1, 1])) # -5\n",
    "print(integer.bin2int([0, 0, 0, 0, 0, 1, 0, 1])) # 5\n",
    "print(integer.bin2int([1, 0, 0, 0, 0, 0, 0, 0])) # -128\n",
    "print(integer.bin2int([0, 1, 1, 1, 1, 1, 1, 1])) # 127"
   ]
  },
  {
   "cell_type": "markdown",
   "id": "b3711b21",
   "metadata": {},
   "source": [
    "<br>"
   ]
  },
  {
   "cell_type": "code",
   "execution_count": 9,
   "id": "ae4c4c63",
   "metadata": {},
   "outputs": [],
   "source": [
    "integer16 = int_repr(num_bits=16)\n",
    "\n",
    "for i in range(-1000, 1000):\n",
    "    binary = integer16.int2bin(i)\n",
    "    assert integer16.bin2int(binary) == i"
   ]
  },
  {
   "cell_type": "markdown",
   "id": "9117b82e",
   "metadata": {},
   "source": [
    "<br>\n",
    "<br>\n",
    "<br>"
   ]
  },
  {
   "cell_type": "code",
   "execution_count": 10,
   "id": "e5ca5f0f",
   "metadata": {},
   "outputs": [],
   "source": [
    "caster = float_dec()"
   ]
  },
  {
   "cell_type": "markdown",
   "id": "8bf24c41",
   "metadata": {},
   "source": [
    "<br>"
   ]
  },
  {
   "cell_type": "code",
   "execution_count": 11,
   "id": "fee6a8f6",
   "metadata": {},
   "outputs": [],
   "source": [
    "import numpy as np\n",
    "\n",
    "for i in list(float(round(i, 2)) for i in np.arange(-250, 250, 0.01)):\n",
    "    binary = caster.float2bin(i)\n",
    "    inv_binary = round(caster.bin2float(binary),  2)\n",
    "    \n",
    "    assert i == inv_binary"
   ]
  }
 ],
 "metadata": {
  "kernelspec": {
   "display_name": "Python 3 (ipykernel)",
   "language": "python",
   "name": "python3"
  },
  "language_info": {
   "codemirror_mode": {
    "name": "ipython",
    "version": 3
   },
   "file_extension": ".py",
   "mimetype": "text/x-python",
   "name": "python",
   "nbconvert_exporter": "python",
   "pygments_lexer": "ipython3",
   "version": "3.10.11"
  }
 },
 "nbformat": 4,
 "nbformat_minor": 5
}
