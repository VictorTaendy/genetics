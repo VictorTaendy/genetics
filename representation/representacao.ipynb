{
 "cells": [
  {
   "cell_type": "code",
   "execution_count": 1,
   "id": "dd98b967",
   "metadata": {},
   "outputs": [],
   "source": [
    "from binary_repr import (\n",
    "    real_float_dec_repr, \n",
    "    int_repr, \n",
    "    real_fixed_repr\n",
    ")"
   ]
  },
  {
   "cell_type": "markdown",
   "id": "0b42b24a",
   "metadata": {},
   "source": [
    "<br>\n",
    "<br>\n",
    "<br>"
   ]
  },
  {
   "cell_type": "code",
   "execution_count": 2,
   "id": "5c9a2aec",
   "metadata": {},
   "outputs": [],
   "source": [
    "integer = int_repr(num_bits=8)\n",
    "integer16 = int_repr(num_bits=16)\n",
    "real = real_float_dec_repr()\n",
    "fixed = real_fixed_repr()"
   ]
  },
  {
   "cell_type": "code",
   "execution_count": 3,
   "id": "c22a8dbf",
   "metadata": {
    "scrolled": false
   },
   "outputs": [
    {
     "name": "stdout",
     "output_type": "stream",
     "text": [
      "[1, 1, 1, 1, 1, 0, 1, 1]\n",
      "[0, 0, 0, 0, 0, 1, 0, 1]\n",
      "[1, 0, 0, 0, 0, 0, 0, 0]\n",
      "[0, 1, 1, 1, 1, 1, 1, 1]\n"
     ]
    }
   ],
   "source": [
    "print(integer.int2bin(-5))\n",
    "print(integer.int2bin(5))\n",
    "print(integer.int2bin(-128))\n",
    "print(integer.int2bin(127))"
   ]
  },
  {
   "cell_type": "code",
   "execution_count": 4,
   "id": "869e6d6a",
   "metadata": {
    "scrolled": true
   },
   "outputs": [
    {
     "name": "stdout",
     "output_type": "stream",
     "text": [
      "-5\n",
      "5\n",
      "-128\n",
      "127\n"
     ]
    }
   ],
   "source": [
    "print(integer.bin2int([1, 1, 1, 1, 1, 0, 1, 1])) # -5\n",
    "print(integer.bin2int([0, 0, 0, 0, 0, 1, 0, 1])) # 5\n",
    "print(integer.bin2int([1, 0, 0, 0, 0, 0, 0, 0])) # -128\n",
    "print(integer.bin2int([0, 1, 1, 1, 1, 1, 1, 1])) # 127"
   ]
  },
  {
   "cell_type": "markdown",
   "id": "56381b5d",
   "metadata": {},
   "source": [
    "<br>\n",
    "<br>\n",
    "<br>"
   ]
  },
  {
   "cell_type": "code",
   "execution_count": 5,
   "id": "ae4c4c63",
   "metadata": {},
   "outputs": [],
   "source": [
    "for i in range(-1000, 1000):\n",
    "    binary = integer16.int2bin(i)\n",
    "    assert integer16.bin2int(binary) == i"
   ]
  },
  {
   "cell_type": "markdown",
   "id": "9117b82e",
   "metadata": {},
   "source": [
    "<br>\n",
    "<br>\n",
    "<br>"
   ]
  },
  {
   "cell_type": "code",
   "execution_count": 6,
   "id": "fee6a8f6",
   "metadata": {},
   "outputs": [],
   "source": [
    "import numpy as np\n",
    "\n",
    "# for (for ...) np.arange vem com precisão maior do que o esperado\n",
    "for i in list(float(round(i, 2)) for i in np.arange(-250, 250, 0.01)):\n",
    "    binary = real.float2bin(i)\n",
    "    inv_binary = round(real.bin2float(binary),  4)\n",
    "    \n",
    "    if i != inv_binary:\n",
    "        print(i, inv_binary)\n",
    "    \n",
    "    assert i == inv_binary"
   ]
  },
  {
   "cell_type": "markdown",
   "id": "2bf25cbb",
   "metadata": {},
   "source": [
    "<br>\n",
    "<br>\n",
    "<br>"
   ]
  },
  {
   "cell_type": "markdown",
   "id": "3703025a",
   "metadata": {},
   "source": [
    "# Real Fixed repr"
   ]
  },
  {
   "cell_type": "code",
   "execution_count": 7,
   "id": "5df75cf5",
   "metadata": {},
   "outputs": [],
   "source": [
    "import numpy as np\n",
    "\n",
    "for i in list(float(round(i, 2)) for i in np.arange(-250, 250, 0.01)):\n",
    "    binary = fixed.fixed2bin(i)\n",
    "    inv_binary = round(fixed.bin2fixed(binary),  10)\n",
    "    if i != inv_binary:\n",
    "        print(i, inv_binary)\n",
    "        \n",
    "    assert i == inv_binary\n",
    "    "
   ]
  },
  {
   "cell_type": "markdown",
   "id": "fab786f9",
   "metadata": {},
   "source": [
    "<br>\n",
    "<br>\n",
    "<br>"
   ]
  }
 ],
 "metadata": {
  "kernelspec": {
   "display_name": "Python 3 (ipykernel)",
   "language": "python",
   "name": "python3"
  },
  "language_info": {
   "codemirror_mode": {
    "name": "ipython",
    "version": 3
   },
   "file_extension": ".py",
   "mimetype": "text/x-python",
   "name": "python",
   "nbconvert_exporter": "python",
   "pygments_lexer": "ipython3",
   "version": "3.10.11"
  }
 },
 "nbformat": 4,
 "nbformat_minor": 5
}
