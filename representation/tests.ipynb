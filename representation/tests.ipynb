{
 "cells": [
  {
   "cell_type": "code",
   "execution_count": 1,
   "id": "35eab16d",
   "metadata": {},
   "outputs": [],
   "source": [
    "from binary_repr import *"
   ]
  },
  {
   "cell_type": "markdown",
   "id": "15620840",
   "metadata": {},
   "source": [
    "<br>\n",
    "<br>\n",
    "<br>\n",
    "<br>"
   ]
  },
  {
   "cell_type": "code",
   "execution_count": 2,
   "id": "365c6bc3",
   "metadata": {},
   "outputs": [],
   "source": [
    "def raise_error(message, val=None, expected=None, got=None):\n",
    "    if val is not None:\n",
    "        message += f\" | Value: {val}\"\n",
    "    if expected is not None and got is not None:\n",
    "        message += f\" | Expected: {expected} | Got: {got}\"\n",
    "    print(message)\n",
    "    raise Exception(\"Test Failed!\")\n",
    "\n",
    "def test_bool_repr_extensive():\n",
    "    br = bool_repr()\n",
    "    \n",
    "    if br.to_bin(True) != [1]: raise_error(\"Failed on bool_repr True\")\n",
    "    if br.to_bin(False) != [0]: raise_error(\"Failed on bool_repr False\")\n",
    "\n",
    "def test_int_repr_extensive():\n",
    "    ir = int_repr(num_bits=32)\n",
    "    \n",
    "    for val in [\n",
    "        -32768, -256, -128, 0, \n",
    "        127, 255, 32767\n",
    "    ]:\n",
    "        \n",
    "        result = ir.to_val(ir.to_bin(val))\n",
    "        if result != val: raise_error(\"Failed on int_repr\", val=val, expected=val, got=result)\n",
    "\n",
    "def test_real_float_dec_repr_extensive():\n",
    "    rfdr = real_float_dec_repr(mant_size=64, exp_size=32)\n",
    "    \n",
    "    for val in [\n",
    "        -0.0001, -0.1234, -12.34, -123.45, -1234.5678, -12345.678,\n",
    "         0.0001,  0.1234,  12.34,  123.45,  1234.5678,  12345.678\n",
    "    ]:\n",
    "        bin_value = rfdr.to_bin(val)\n",
    "        result = rfdr.to_val(bin_value)\n",
    "        if abs(result - val) >= 0.01: raise_error(\"Failed on real_float_dec_repr\", val=val, expected=val, got=result)\n",
    "\n",
    "def test_real_fixed_repr_extensive():\n",
    "    rfr = real_fixed_repr(real_part=10, frac_part=10)\n",
    "    \n",
    "    for val in [\n",
    "        -0.000001, -0.123456, -12.3456, -123.456, -1234.56, -12345.6,\n",
    "         0.000001,  0.123456,  12.3456,  123.456,  1234.56,  12345.6\n",
    "    ]:\n",
    "        \n",
    "        bin_value = rfr.to_bin(val)\n",
    "        result = rfr.to_val(bin_value)\n",
    "        if abs(result - val) >= 0.0001: raise_error(\"Failed on real_fixed_repr\", val=val, expected=val, got=result)\n",
    "\n",
    "def test_aux_functions_extensive():\n",
    "    for val in range(16):\n",
    "        bin_val = int2bin(val, num_bits=4)\n",
    "        uint_val = uint2bin(val, tam=4)\n",
    "        \n",
    "        if bin_val != uint_val: raise_error(\"Mismatch between int2bin and uint2bin\", val=val, expected=uint_val, got=bin_val)\n",
    "        \n",
    "        int_result = bin2int(bin_val)\n",
    "        if int_result != val: raise_error(\"Mismatch in bin2int\", val=val, expected=val, got=int_result)\n",
    "        \n",
    "        uint_result = bin2uint(uint_val)\n",
    "        if uint_result != val: raise_error(\"Mismatch in bin2uint\", val=val, expected=val, got=uint_result)"
   ]
  },
  {
   "cell_type": "code",
   "execution_count": 3,
   "id": "ceb6ba6e",
   "metadata": {},
   "outputs": [
    {
     "ename": "ValueError",
     "evalue": "not enough values to unpack (expected 2, got 1)",
     "output_type": "error",
     "traceback": [
      "\u001b[1;31m---------------------------------------------------------------------------\u001b[0m",
      "\u001b[1;31mValueError\u001b[0m                                Traceback (most recent call last)",
      "Cell \u001b[1;32mIn[3], line 5\u001b[0m\n\u001b[0;32m      3\u001b[0m test_int_repr_extensive()\n\u001b[0;32m      4\u001b[0m test_real_float_dec_repr_extensive()\n\u001b[1;32m----> 5\u001b[0m \u001b[43mtest_real_fixed_repr_extensive\u001b[49m\u001b[43m(\u001b[49m\u001b[43m)\u001b[49m\n\u001b[0;32m      6\u001b[0m test_aux_functions_extensive()\n\u001b[0;32m      7\u001b[0m \u001b[38;5;28mprint\u001b[39m(\u001b[38;5;124m\"\u001b[39m\u001b[38;5;124mTodos os testes passaram!\u001b[39m\u001b[38;5;124m\"\u001b[39m)\n",
      "Cell \u001b[1;32mIn[2], line 45\u001b[0m, in \u001b[0;36mtest_real_fixed_repr_extensive\u001b[1;34m()\u001b[0m\n\u001b[0;32m     38\u001b[0m rfr \u001b[38;5;241m=\u001b[39m real_fixed_repr(real_part\u001b[38;5;241m=\u001b[39m\u001b[38;5;241m10\u001b[39m, frac_part\u001b[38;5;241m=\u001b[39m\u001b[38;5;241m10\u001b[39m)\n\u001b[0;32m     40\u001b[0m \u001b[38;5;28;01mfor\u001b[39;00m val \u001b[38;5;129;01min\u001b[39;00m [\n\u001b[0;32m     41\u001b[0m     \u001b[38;5;241m-\u001b[39m\u001b[38;5;241m0.000001\u001b[39m, \u001b[38;5;241m-\u001b[39m\u001b[38;5;241m0.123456\u001b[39m, \u001b[38;5;241m-\u001b[39m\u001b[38;5;241m12.3456\u001b[39m, \u001b[38;5;241m-\u001b[39m\u001b[38;5;241m123.456\u001b[39m, \u001b[38;5;241m-\u001b[39m\u001b[38;5;241m1234.56\u001b[39m, \u001b[38;5;241m-\u001b[39m\u001b[38;5;241m12345.6\u001b[39m,\n\u001b[0;32m     42\u001b[0m      \u001b[38;5;241m0.000001\u001b[39m,  \u001b[38;5;241m0.123456\u001b[39m,  \u001b[38;5;241m12.3456\u001b[39m,  \u001b[38;5;241m123.456\u001b[39m,  \u001b[38;5;241m1234.56\u001b[39m,  \u001b[38;5;241m12345.6\u001b[39m\n\u001b[0;32m     43\u001b[0m ]:\n\u001b[1;32m---> 45\u001b[0m     bin_value \u001b[38;5;241m=\u001b[39m \u001b[43mrfr\u001b[49m\u001b[38;5;241;43m.\u001b[39;49m\u001b[43mto_bin\u001b[49m\u001b[43m(\u001b[49m\u001b[43mval\u001b[49m\u001b[43m)\u001b[49m\n\u001b[0;32m     46\u001b[0m     result \u001b[38;5;241m=\u001b[39m rfr\u001b[38;5;241m.\u001b[39mto_val(bin_value)\n\u001b[0;32m     47\u001b[0m     \u001b[38;5;28;01mif\u001b[39;00m \u001b[38;5;28mabs\u001b[39m(result \u001b[38;5;241m-\u001b[39m val) \u001b[38;5;241m>\u001b[39m\u001b[38;5;241m=\u001b[39m \u001b[38;5;241m0.0001\u001b[39m: raise_error(\u001b[38;5;124m\"\u001b[39m\u001b[38;5;124mFailed on real_fixed_repr\u001b[39m\u001b[38;5;124m\"\u001b[39m, val\u001b[38;5;241m=\u001b[39mval, expected\u001b[38;5;241m=\u001b[39mval, got\u001b[38;5;241m=\u001b[39mresult)\n",
      "File \u001b[1;32m~\\workspaces\\genetics\\source\\repository\\genetics\\representation\\binary_repr.py:133\u001b[0m, in \u001b[0;36mreal_fixed_repr.to_bin\u001b[1;34m(self, n)\u001b[0m\n\u001b[0;32m    129\u001b[0m \u001b[38;5;28;01mdef\u001b[39;00m \u001b[38;5;21mto_bin\u001b[39m(\u001b[38;5;28mself\u001b[39m, n):\n\u001b[0;32m    130\u001b[0m     \u001b[38;5;66;03m# fixed2bin\u001b[39;00m\n\u001b[0;32m    132\u001b[0m     sign \u001b[38;5;241m=\u001b[39m \u001b[38;5;241m1\u001b[39m \u001b[38;5;28;01mif\u001b[39;00m n \u001b[38;5;241m>\u001b[39m\u001b[38;5;241m=\u001b[39m \u001b[38;5;241m0\u001b[39m \u001b[38;5;28;01melse\u001b[39;00m \u001b[38;5;241m0\u001b[39m\n\u001b[1;32m--> 133\u001b[0m     real, frac \u001b[38;5;241m=\u001b[39m \u001b[38;5;28mstr\u001b[39m(\u001b[38;5;28mabs\u001b[39m(n))\u001b[38;5;241m.\u001b[39msplit(\u001b[38;5;124m'\u001b[39m\u001b[38;5;124m.\u001b[39m\u001b[38;5;124m'\u001b[39m)\n\u001b[0;32m    134\u001b[0m     real, frac \u001b[38;5;241m=\u001b[39m \u001b[38;5;28mint\u001b[39m(real), \u001b[38;5;28mint\u001b[39m(frac\u001b[38;5;241m.\u001b[39mljust(\u001b[38;5;28mself\u001b[39m\u001b[38;5;241m.\u001b[39mfrac_part, \u001b[38;5;124m'\u001b[39m\u001b[38;5;124m0\u001b[39m\u001b[38;5;124m'\u001b[39m))\n\u001b[0;32m    136\u001b[0m     \u001b[38;5;28;01mif\u001b[39;00m  (\u001b[38;5;28mlen\u001b[39m(\u001b[38;5;28mstr\u001b[39m(real)) \u001b[38;5;241m>\u001b[39m \u001b[38;5;28mself\u001b[39m\u001b[38;5;241m.\u001b[39mreal_part \u001b[38;5;129;01mand\u001b[39;00m real \u001b[38;5;241m>\u001b[39m\u001b[38;5;241m=\u001b[39m \u001b[38;5;241m0\u001b[39m) \u001b[38;5;129;01mor\u001b[39;00m \\\n\u001b[0;32m    137\u001b[0m         (\u001b[38;5;28mlen\u001b[39m(\u001b[38;5;28mstr\u001b[39m(real)) \u001b[38;5;241m>\u001b[39m \u001b[38;5;28mself\u001b[39m\u001b[38;5;241m.\u001b[39mreal_part \u001b[38;5;241m+\u001b[39m \u001b[38;5;241m1\u001b[39m \u001b[38;5;129;01mand\u001b[39;00m real \u001b[38;5;241m<\u001b[39m \u001b[38;5;241m0\u001b[39m) \u001b[38;5;129;01mor\u001b[39;00m \\\n\u001b[0;32m    138\u001b[0m         \u001b[38;5;28mlen\u001b[39m(\u001b[38;5;28mstr\u001b[39m(frac)) \u001b[38;5;241m>\u001b[39m \u001b[38;5;28mself\u001b[39m\u001b[38;5;241m.\u001b[39mfrac_part:\n",
      "\u001b[1;31mValueError\u001b[0m: not enough values to unpack (expected 2, got 1)"
     ]
    }
   ],
   "source": [
    "# if __name__ == \"__main__\":\n",
    "test_bool_repr_extensive()\n",
    "test_int_repr_extensive()\n",
    "test_real_float_dec_repr_extensive()\n",
    "test_real_fixed_repr_extensive()\n",
    "test_aux_functions_extensive()\n",
    "print(\"Todos os testes passaram!\")"
   ]
  },
  {
   "cell_type": "code",
   "execution_count": null,
   "id": "3247ca63",
   "metadata": {},
   "outputs": [],
   "source": [
    "# rfdr = real_float_dec_repr(mant_size=24, exp_size=8)\n",
    "# binary = rfdr.to_bin(1234.5678)\n",
    "# rfdr.to_val(binary)"
   ]
  }
 ],
 "metadata": {
  "kernelspec": {
   "display_name": "Python 3 (ipykernel)",
   "language": "python",
   "name": "python3"
  },
  "language_info": {
   "codemirror_mode": {
    "name": "ipython",
    "version": 3
   },
   "file_extension": ".py",
   "mimetype": "text/x-python",
   "name": "python",
   "nbconvert_exporter": "python",
   "pygments_lexer": "ipython3",
   "version": "3.10.11"
  }
 },
 "nbformat": 4,
 "nbformat_minor": 5
}
